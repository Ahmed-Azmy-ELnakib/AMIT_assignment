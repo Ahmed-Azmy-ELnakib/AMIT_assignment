{
  "nbformat": 4,
  "nbformat_minor": 0,
  "metadata": {
    "colab": {
      "provenance": []
    },
    "kernelspec": {
      "name": "python3",
      "display_name": "Python 3"
    },
    "language_info": {
      "name": "python"
    }
  },
  "cells": [
    {
      "cell_type": "code",
      "execution_count": 40,
      "metadata": {
        "colab": {
          "base_uri": "https://localhost:8080/"
        },
        "id": "ZZmpOGJpN4Ph",
        "outputId": "e48a6f42-bd8d-4e40-bd74-b774561c59c2"
      },
      "outputs": [
        {
          "output_type": "stream",
          "name": "stdout",
          "text": [
            "5.5\n"
          ]
        }
      ],
      "source": [
        "# Answer 1\n",
        "x= (5,3,5.5)\n",
        "print(x[2])"
      ]
    },
    {
      "cell_type": "code",
      "source": [
        "# Answer 2\n",
        "y = (10,20,30)\n",
        "a,b,c =y\n",
        "print(a)\n",
        "print(b)\n",
        "print(c)"
      ],
      "metadata": {
        "colab": {
          "base_uri": "https://localhost:8080/"
        },
        "id": "zvwxYXHcPtuu",
        "outputId": "412a0c0c-c759-4a5d-8faf-dae2be66db4b"
      },
      "execution_count": 41,
      "outputs": [
        {
          "output_type": "stream",
          "name": "stdout",
          "text": [
            "10\n",
            "20\n",
            "30\n"
          ]
        }
      ]
    },
    {
      "cell_type": "code",
      "source": [
        "# Answer 3\n",
        "my_tuple=(1,2,3,4)\n",
        "my_list= list(my_tuple)\n",
        "my_list.insert(2,50)\n",
        "my_tuple=tuple(my_list)\n",
        "print(my_tuple)\n"
      ],
      "metadata": {
        "colab": {
          "base_uri": "https://localhost:8080/"
        },
        "id": "i7fNQ-ywSsId",
        "outputId": "121ca69d-f968-41a9-8f89-ba85a507af1a"
      },
      "execution_count": 42,
      "outputs": [
        {
          "output_type": "stream",
          "name": "stdout",
          "text": [
            "(1, 2, 50, 3, 4)\n"
          ]
        }
      ]
    },
    {
      "cell_type": "code",
      "source": [
        "# Answer 4\n",
        "x=(\"a\",\"h\",\"m\",\"e\",\"d\")\n",
        "y= \"\".join(x)\n",
        "print(y)"
      ],
      "metadata": {
        "colab": {
          "base_uri": "https://localhost:8080/"
        },
        "id": "5VdFgulQTPEs",
        "outputId": "998cd8c2-1af0-4676-bd69-e47a32e24fbb"
      },
      "execution_count": 43,
      "outputs": [
        {
          "output_type": "stream",
          "name": "stdout",
          "text": [
            "ahmed\n"
          ]
        }
      ]
    },
    {
      "cell_type": "code",
      "source": [
        "# Answer 5\n",
        "my_tuple = (1, 2, 3, 2, 4, 5, 3, 6, 2)\n",
        "items = set([item for item in my_tuple if my_tuple.count(item) > 1])\n",
        "\n",
        "print(items)"
      ],
      "metadata": {
        "colab": {
          "base_uri": "https://localhost:8080/"
        },
        "id": "Fy135FcZTuE8",
        "outputId": "6a462f8b-ffb5-476d-87a5-5a2373217d12"
      },
      "execution_count": 44,
      "outputs": [
        {
          "output_type": "stream",
          "name": "stdout",
          "text": [
            "{2, 3}\n"
          ]
        }
      ]
    },
    {
      "cell_type": "code",
      "source": [
        "#answer 6\n",
        "my_tuple = (1,2,3,4,5)\n",
        "my_list = list(my_tuple)\n",
        "my_list.pop(2)\n",
        "my_tuple = tuple(my_list)\n",
        "print(my_tuple)\n"
      ],
      "metadata": {
        "colab": {
          "base_uri": "https://localhost:8080/"
        },
        "id": "MPZ5aHV3Vyzm",
        "outputId": "01aba2f7-5680-4547-f02b-718b71e4954a"
      },
      "execution_count": 45,
      "outputs": [
        {
          "output_type": "stream",
          "name": "stdout",
          "text": [
            "(1, 2, 4, 5)\n"
          ]
        }
      ]
    },
    {
      "cell_type": "code",
      "source": [
        "#answer 7\n",
        "my_tuple = (1, 2, 3, 4, 5)\n",
        "reversed_tuple= my_tuple[::-1]\n",
        "print(reversed_tuple)"
      ],
      "metadata": {
        "colab": {
          "base_uri": "https://localhost:8080/"
        },
        "id": "6Nc5QOoeYELu",
        "outputId": "1305ea88-89e1-4c61-bcb0-abf80ac82a67"
      },
      "execution_count": 46,
      "outputs": [
        {
          "output_type": "stream",
          "name": "stdout",
          "text": [
            "(5, 4, 3, 2, 1)\n"
          ]
        }
      ]
    },
    {
      "cell_type": "code",
      "source": [
        "#ِAnswer 8\n",
        "my_list = [(1, 2, 3), (4, 5, 6), (7, 8, 9)]\n",
        "new_list = [t[:-1] + (0,) for t in my_list]\n",
        "print(new_list)"
      ],
      "metadata": {
        "colab": {
          "base_uri": "https://localhost:8080/"
        },
        "id": "q9hnw8YIZsRJ",
        "outputId": "cc6b53d6-a23e-480b-ed7f-8909d6c088c7"
      },
      "execution_count": 47,
      "outputs": [
        {
          "output_type": "stream",
          "name": "stdout",
          "text": [
            "[(1, 2, 0), (4, 5, 0), (7, 8, 0)]\n"
          ]
        }
      ]
    },
    {
      "cell_type": "markdown",
      "source": [
        "#List"
      ],
      "metadata": {
        "id": "cNfhnsxrbIHX"
      }
    },
    {
      "cell_type": "code",
      "source": [
        "#answer 1\n",
        "x = [\"ahmed\" , \"mohamed\" , \"ali\"]\n",
        "x.append(\"mahmoud\")\n",
        "print(x)"
      ],
      "metadata": {
        "colab": {
          "base_uri": "https://localhost:8080/"
        },
        "id": "b-XZp255auLI",
        "outputId": "926da975-8393-49df-89ba-cbd0c1787488"
      },
      "execution_count": 48,
      "outputs": [
        {
          "output_type": "stream",
          "name": "stdout",
          "text": [
            "['ahmed', 'mohamed', 'ali', 'mahmoud']\n"
          ]
        }
      ]
    },
    {
      "cell_type": "code",
      "source": [
        "# answer 2\n",
        "list1 = [1, 2, 3]\n",
        "list2 = [4, 5, 6]\n",
        "list1.extend(list2)\n",
        "print(list1)"
      ],
      "metadata": {
        "colab": {
          "base_uri": "https://localhost:8080/"
        },
        "id": "zq1wHWTebshl",
        "outputId": "dc2ca447-ade4-468b-ad2c-b4432dc4a1a8"
      },
      "execution_count": 49,
      "outputs": [
        {
          "output_type": "stream",
          "name": "stdout",
          "text": [
            "[1, 2, 3, 4, 5, 6]\n"
          ]
        }
      ]
    },
    {
      "cell_type": "code",
      "source": [
        "# answer 3\n",
        "colors = [\"red\", \"green\", \"blue\"]\n",
        "colors.insert(1, \"yellow\")\n",
        "print(colors)"
      ],
      "metadata": {
        "colab": {
          "base_uri": "https://localhost:8080/"
        },
        "id": "_c4hYfMcb7l7",
        "outputId": "ef94b5ab-66b2-4545-d7e8-04767d8b9ae0"
      },
      "execution_count": 50,
      "outputs": [
        {
          "output_type": "stream",
          "name": "stdout",
          "text": [
            "['red', 'yellow', 'green', 'blue']\n"
          ]
        }
      ]
    },
    {
      "cell_type": "code",
      "source": [
        "# answer 4\n",
        "cities = [\"cairo\", \"London\", \"port said\", \"cairo\", \"Tokyo\"]\n",
        "cities.remove(\"cairo\")\n",
        "print(cities)"
      ],
      "metadata": {
        "colab": {
          "base_uri": "https://localhost:8080/"
        },
        "id": "WZcTNvjachU8",
        "outputId": "154fb9a6-ae01-4f4b-f56e-9ca24f694134"
      },
      "execution_count": 51,
      "outputs": [
        {
          "output_type": "stream",
          "name": "stdout",
          "text": [
            "['London', 'port said', 'cairo', 'Tokyo']\n"
          ]
        }
      ]
    },
    {
      "cell_type": "code",
      "source": [
        "# answer 5\n",
        "animals = [\"dog\", \"cat\", \"rabbit\", \"elephant\"]\n",
        "re_animal = animals.pop(1)\n",
        "print(re_animal)"
      ],
      "metadata": {
        "colab": {
          "base_uri": "https://localhost:8080/"
        },
        "id": "b2MAU1aKc7ez",
        "outputId": "c2071a24-1cef-4546-94a2-c7c5a10b7294"
      },
      "execution_count": 52,
      "outputs": [
        {
          "output_type": "stream",
          "name": "stdout",
          "text": [
            "cat\n"
          ]
        }
      ]
    },
    {
      "cell_type": "code",
      "source": [
        "# answer 6\n",
        "x = [5, 9, 3, 8, 6]\n",
        "x.clear()\n",
        "print(x)"
      ],
      "metadata": {
        "colab": {
          "base_uri": "https://localhost:8080/"
        },
        "id": "z386b0KMd01a",
        "outputId": "26bb6878-1668-472a-a0c3-5ef18af25f73"
      },
      "execution_count": 53,
      "outputs": [
        {
          "output_type": "stream",
          "name": "stdout",
          "text": [
            "[]\n"
          ]
        }
      ]
    },
    {
      "cell_type": "markdown",
      "source": [
        "#Dictionary"
      ],
      "metadata": {
        "id": "0pvqNg94fOQ1"
      }
    },
    {
      "cell_type": "code",
      "source": [
        "#answer 1\n",
        "x = {\"key1\":\"cairo\",\"key2\":\"port_said\"}\n",
        "y=x.get(\"France\",\"paris\")\n",
        "print(y)\n"
      ],
      "metadata": {
        "colab": {
          "base_uri": "https://localhost:8080/"
        },
        "id": "lQjnn9Jee0bz",
        "outputId": "a0c48012-8f7a-40de-c215-5bc47956e718"
      },
      "execution_count": 54,
      "outputs": [
        {
          "output_type": "stream",
          "name": "stdout",
          "text": [
            "paris\n"
          ]
        }
      ]
    },
    {
      "cell_type": "code",
      "source": [
        "# answer 2\n",
        "languages = {\"Python\": \"pandas\",\"JavaScript\": \"React\",\"Java\": \"Spring\",\"Ruby\":\"Rails\"}\n",
        "y = list(languages.keys())\n",
        "print(y)"
      ],
      "metadata": {
        "colab": {
          "base_uri": "https://localhost:8080/"
        },
        "id": "cjtDxUR4ghC2",
        "outputId": "2e253b17-d1d8-412a-de90-10659735459d"
      },
      "execution_count": 55,
      "outputs": [
        {
          "output_type": "stream",
          "name": "stdout",
          "text": [
            "['Python', 'JavaScript', 'Java', 'Ruby']\n"
          ]
        }
      ]
    },
    {
      "cell_type": "code",
      "source": [
        "# answer 3\n",
        "x = list(languages.values())\n",
        "print(x)"
      ],
      "metadata": {
        "colab": {
          "base_uri": "https://localhost:8080/"
        },
        "id": "tZqArSNYiLyj",
        "outputId": "c0f02b6e-ddc6-4cdd-ee2f-7a238a72ca7f"
      },
      "execution_count": 56,
      "outputs": [
        {
          "output_type": "stream",
          "name": "stdout",
          "text": [
            "['pandas', 'React', 'Spring', 'Rails']\n"
          ]
        }
      ]
    },
    {
      "cell_type": "code",
      "source": [
        "#answer 4\n",
        "items_prices = {\n",
        "    \"Apple\": 80,\"Banana\": 25,\"Orange\": 30}\n",
        "x = list(items_prices.items())\n",
        "print(x)"
      ],
      "metadata": {
        "colab": {
          "base_uri": "https://localhost:8080/"
        },
        "id": "7ciLMgCYicxb",
        "outputId": "189a3bbc-1649-4bfb-bf5c-9d713c1cd64a"
      },
      "execution_count": 57,
      "outputs": [
        {
          "output_type": "stream",
          "name": "stdout",
          "text": [
            "[('Apple', 80), ('Banana', 25), ('Orange', 30)]\n"
          ]
        }
      ]
    },
    {
      "cell_type": "code",
      "source": [
        "# answer 5\n",
        "x = {\"Apple\": 80,\"Banana\": 25,\"Orange\": 30}\n",
        "x.update({\"strawberry\":30})\n",
        "print(x)"
      ],
      "metadata": {
        "colab": {
          "base_uri": "https://localhost:8080/"
        },
        "id": "AUZdL8HkjAiD",
        "outputId": "cf9044e3-64c4-4dee-930c-c8893c679adf"
      },
      "execution_count": 58,
      "outputs": [
        {
          "output_type": "stream",
          "name": "stdout",
          "text": [
            "{'Apple': 80, 'Banana': 25, 'Orange': 30, 'strawberry': 30}\n"
          ]
        }
      ]
    },
    {
      "cell_type": "code",
      "source": [
        "#answer 6\n",
        "y=x.pop(\"Apple\")\n",
        "print(y)\n",
        "print(x)"
      ],
      "metadata": {
        "colab": {
          "base_uri": "https://localhost:8080/"
        },
        "id": "mLwDGAHtkNEB",
        "outputId": "37b189f1-db65-466f-cbc6-9b42bdd2c6a9"
      },
      "execution_count": 59,
      "outputs": [
        {
          "output_type": "stream",
          "name": "stdout",
          "text": [
            "80\n",
            "{'Banana': 25, 'Orange': 30, 'strawberry': 30}\n"
          ]
        }
      ]
    },
    {
      "cell_type": "code",
      "source": [
        "# answer 7\n",
        "x.clear()\n",
        "print(x)"
      ],
      "metadata": {
        "colab": {
          "base_uri": "https://localhost:8080/"
        },
        "id": "x7hcrv94kg0y",
        "outputId": "33af12c7-14f1-4e82-829e-3534d6d3c7b5"
      },
      "execution_count": 60,
      "outputs": [
        {
          "output_type": "stream",
          "name": "stdout",
          "text": [
            "{}\n"
          ]
        }
      ]
    },
    {
      "cell_type": "code",
      "source": [],
      "metadata": {
        "id": "yJ6gcYY3k48j"
      },
      "execution_count": null,
      "outputs": []
    }
  ]
}