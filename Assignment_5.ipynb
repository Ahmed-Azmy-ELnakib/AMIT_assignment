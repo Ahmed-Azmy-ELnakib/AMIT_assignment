{
  "nbformat": 4,
  "nbformat_minor": 0,
  "metadata": {
    "colab": {
      "provenance": [],
      "include_colab_link": true
    },
    "kernelspec": {
      "name": "python3",
      "display_name": "Python 3"
    },
    "language_info": {
      "name": "python"
    }
  },
  "cells": [
    {
      "cell_type": "markdown",
      "metadata": {
        "id": "view-in-github",
        "colab_type": "text"
      },
      "source": [
        "<a href=\"https://colab.research.google.com/github/Ahmed-Azmy-ELnakib/AMIT_assignment/blob/main/Assignment_5.ipynb\" target=\"_parent\"><img src=\"https://colab.research.google.com/assets/colab-badge.svg\" alt=\"Open In Colab\"/></a>"
      ]
    },
    {
      "cell_type": "code",
      "execution_count": null,
      "metadata": {
        "colab": {
          "base_uri": "https://localhost:8080/"
        },
        "id": "UKI1KX7aAeFw",
        "outputId": "264c2db7-cffa-47ae-f139-7e6b05f96b60"
      },
      "outputs": [
        {
          "output_type": "stream",
          "name": "stdout",
          "text": [
            "2\n",
            "4\n",
            "6\n",
            "8\n",
            "10\n",
            "12\n",
            "14\n",
            "16\n",
            "18\n",
            "20\n"
          ]
        }
      ],
      "source": [
        "# Task 1\n",
        "def even_numbers():\n",
        "  for num in range(1,21):\n",
        "    if num %2==0:\n",
        "      print(num)\n",
        "even_numbers()"
      ]
    },
    {
      "cell_type": "code",
      "source": [
        "# Task 2\n",
        "def count_vowels(s):\n",
        "  vowels=\"aieouAIEOU\"\n",
        "  count=0\n",
        "  for x in s:\n",
        "    if x in vowels:\n",
        "      count+=1\n",
        "  print(f\"count is {count}\")\n",
        "count_vowels(\"Ahmed Azmy Elnakib\")"
      ],
      "metadata": {
        "colab": {
          "base_uri": "https://localhost:8080/"
        },
        "id": "AlwPlpHkOATZ",
        "outputId": "2b391f18-31a0-40ca-9290-de5f1396c78d"
      },
      "execution_count": null,
      "outputs": [
        {
          "output_type": "stream",
          "name": "stdout",
          "text": [
            "count is 6\n"
          ]
        }
      ]
    },
    {
      "cell_type": "code",
      "source": [
        "# Task 4\n",
        "def find_max(nums):\n",
        "  max_nums=nums[0]\n",
        "  for num in nums:\n",
        "    if num > max_nums:\n",
        "        max_nums=num\n",
        "  return max_nums\n",
        "nums=[1,2,3,4,5]\n",
        "print(f\"the max number is: {find_max(nums)}\")"
      ],
      "metadata": {
        "colab": {
          "base_uri": "https://localhost:8080/"
        },
        "id": "wgD9D2bFTkps",
        "outputId": "d88d21f8-5f08-4a0f-91ac-a9f56d228d03"
      },
      "execution_count": null,
      "outputs": [
        {
          "output_type": "stream",
          "name": "stdout",
          "text": [
            "the max number is: 5\n"
          ]
        }
      ]
    },
    {
      "cell_type": "code",
      "source": [
        "# Task 5\n",
        "def is_prime(n):\n",
        "  if n <=1:\n",
        "    return False\n",
        "\n",
        "  for i in range(2,n//2+1):\n",
        "    if n % i==0:\n",
        "      return False\n",
        "  return True\n",
        "\n",
        "test=[28,29,30]\n",
        "for num in test:\n",
        "  if is_prime(num):\n",
        "    print(f\"{num} Prime number\")\n",
        "  else:\n",
        "    print(f\"{num} Not a prime number\")"
      ],
      "metadata": {
        "colab": {
          "base_uri": "https://localhost:8080/"
        },
        "collapsed": true,
        "id": "DPVel0b7VPC6",
        "outputId": "6136f9ed-a287-4761-afc4-1a2fd0927158"
      },
      "execution_count": null,
      "outputs": [
        {
          "output_type": "stream",
          "name": "stdout",
          "text": [
            "28 Not a prime number\n",
            "29 Prime number\n",
            "30 Not a prime number\n"
          ]
        }
      ]
    },
    {
      "cell_type": "code",
      "source": [
        "# Task 6\n",
        "def fizz_buzz():\n",
        "  for num in range(1,101):\n",
        "    if num %3==0 and num %5==0:\n",
        "      print(\"FizzBuzz\")\n",
        "    elif num %3==0:\n",
        "      print(\"Fizz\")\n",
        "    elif num %5==0:\n",
        "      print(\"Buzz\")\n",
        "    else:\n",
        "      print(num)\n",
        "\n",
        "fizz_buzz()"
      ],
      "metadata": {
        "colab": {
          "base_uri": "https://localhost:8080/"
        },
        "id": "cJVS8td1dAhu",
        "outputId": "877d7695-9de5-477d-a57a-5d51de9a52ee"
      },
      "execution_count": null,
      "outputs": [
        {
          "output_type": "stream",
          "name": "stdout",
          "text": [
            "1\n",
            "2\n",
            "Fizz\n",
            "4\n",
            "Buzz\n",
            "Fizz\n",
            "7\n",
            "8\n",
            "Fizz\n",
            "Buzz\n",
            "11\n",
            "Fizz\n",
            "13\n",
            "14\n",
            "FizzBuzz\n",
            "16\n",
            "17\n",
            "Fizz\n",
            "19\n",
            "Buzz\n",
            "Fizz\n",
            "22\n",
            "23\n",
            "Fizz\n",
            "Buzz\n",
            "26\n",
            "Fizz\n",
            "28\n",
            "29\n",
            "FizzBuzz\n",
            "31\n",
            "32\n",
            "Fizz\n",
            "34\n",
            "Buzz\n",
            "Fizz\n",
            "37\n",
            "38\n",
            "Fizz\n",
            "Buzz\n",
            "41\n",
            "Fizz\n",
            "43\n",
            "44\n",
            "FizzBuzz\n",
            "46\n",
            "47\n",
            "Fizz\n",
            "49\n",
            "Buzz\n",
            "Fizz\n",
            "52\n",
            "53\n",
            "Fizz\n",
            "Buzz\n",
            "56\n",
            "Fizz\n",
            "58\n",
            "59\n",
            "FizzBuzz\n",
            "61\n",
            "62\n",
            "Fizz\n",
            "64\n",
            "Buzz\n",
            "Fizz\n",
            "67\n",
            "68\n",
            "Fizz\n",
            "Buzz\n",
            "71\n",
            "Fizz\n",
            "73\n",
            "74\n",
            "FizzBuzz\n",
            "76\n",
            "77\n",
            "Fizz\n",
            "79\n",
            "Buzz\n",
            "Fizz\n",
            "82\n",
            "83\n",
            "Fizz\n",
            "Buzz\n",
            "86\n",
            "Fizz\n",
            "88\n",
            "89\n",
            "FizzBuzz\n",
            "91\n",
            "92\n",
            "Fizz\n",
            "94\n",
            "Buzz\n",
            "Fizz\n",
            "97\n",
            "98\n",
            "Fizz\n",
            "Buzz\n"
          ]
        }
      ]
    },
    {
      "cell_type": "code",
      "source": [
        "# Task 7\n",
        "def multiplication_table(n):\n",
        "\n",
        "  for i in range(1,11):\n",
        "    result = n * i\n",
        "    print(f\"{n} x {i} = {result}\")\n",
        "multiplication_table(5)"
      ],
      "metadata": {
        "colab": {
          "base_uri": "https://localhost:8080/"
        },
        "id": "-uXPPTRVoY8y",
        "outputId": "c46b2237-8832-441e-8d28-ad0530ad0aac"
      },
      "execution_count": null,
      "outputs": [
        {
          "output_type": "stream",
          "name": "stdout",
          "text": [
            "5 x 1 = 5\n",
            "5 x 2 = 10\n",
            "5 x 3 = 15\n",
            "5 x 4 = 20\n",
            "5 x 5 = 25\n",
            "5 x 6 = 30\n",
            "5 x 7 = 35\n",
            "5 x 8 = 40\n",
            "5 x 9 = 45\n",
            "5 x 10 = 50\n"
          ]
        }
      ]
    },
    {
      "cell_type": "code",
      "source": [
        "# Task 9\n",
        "def print_fibonacci(n):\n",
        "  if n <=0:\n",
        "    print(\"Enter a number greater than zero.\")\n",
        "    return\n",
        "  fibonacci_sequence=[]\n",
        "  for i in range(n):\n",
        "    if i == 0:\n",
        "      fibonacci_sequence.append(0)\n",
        "    elif i ==1:\n",
        "     fibonacci_sequence.append(1)\n",
        "    else:\n",
        "      next_number = fibonacci_sequence[i-1] + fibonacci_sequence[i-2]\n",
        "      fibonacci_sequence.append(next_number)\n",
        "  print(fibonacci_sequence)\n",
        "print_fibonacci(10)\n"
      ],
      "metadata": {
        "id": "AtrvV5_5qgDW",
        "colab": {
          "base_uri": "https://localhost:8080/"
        },
        "outputId": "31e28773-1581-458f-b574-f3b32991a527"
      },
      "execution_count": null,
      "outputs": [
        {
          "output_type": "stream",
          "name": "stdout",
          "text": [
            "[0, 1, 1, 2, 3, 5, 8, 13, 21, 34]\n"
          ]
        }
      ]
    },
    {
      "cell_type": "code",
      "source": [
        "# Task 10\n",
        "def reverse_string(s):\n",
        "  reversed_string=\"\"\n",
        "  for i in range(len(s)-1,-1,-1):\n",
        "    reversed_string+=s[i]\n",
        "  return reversed_string\n",
        "print(reverse_string(\"Ahmed\"))"
      ],
      "metadata": {
        "colab": {
          "base_uri": "https://localhost:8080/"
        },
        "id": "YSMyaphq958O",
        "outputId": "0b0158e3-4783-4c71-9659-8f4960693973"
      },
      "execution_count": null,
      "outputs": [
        {
          "output_type": "stream",
          "name": "stdout",
          "text": [
            "demhA\n"
          ]
        }
      ]
    },
    {
      "cell_type": "code",
      "source": [
        "# Task 11\n",
        "def armstrong_number():\n",
        "  for num in range(1,1001):\n",
        "    num_str =str(num)\n",
        "    num_digits=len(num_str)\n",
        "    sum_of_power = sum(int(digit)**num_digits for digit in num_str)\n",
        "    if sum_of_power==num:\n",
        "      print(num)\n",
        "armstrong_number()"
      ],
      "metadata": {
        "colab": {
          "base_uri": "https://localhost:8080/"
        },
        "id": "fa0Hv89OAbn7",
        "outputId": "dbbe871e-4204-4f80-e65a-01e9f846b923"
      },
      "execution_count": null,
      "outputs": [
        {
          "output_type": "stream",
          "name": "stdout",
          "text": [
            "1\n",
            "2\n",
            "3\n",
            "4\n",
            "5\n",
            "6\n",
            "7\n",
            "8\n",
            "9\n",
            "153\n",
            "370\n",
            "371\n",
            "407\n"
          ]
        }
      ]
    },
    {
      "cell_type": "code",
      "source": [
        "# Task 12\n",
        "def char_fequency(s):\n",
        "  frequency={}\n",
        "  for char in s:\n",
        "    if char in frequency:\n",
        "      frequency[char]+=1\n",
        "    else:\n",
        "      frequency[char]=1\n",
        "  return frequency\n",
        "print(char_fequency(\"Ahmed\"))"
      ],
      "metadata": {
        "colab": {
          "base_uri": "https://localhost:8080/"
        },
        "id": "YzF-KlYFA0BF",
        "outputId": "07b3047b-a487-452e-bf77-25c18421340d"
      },
      "execution_count": null,
      "outputs": [
        {
          "output_type": "stream",
          "name": "stdout",
          "text": [
            "{'A': 1, 'h': 1, 'm': 1, 'e': 1, 'd': 1}\n"
          ]
        }
      ]
    },
    {
      "cell_type": "code",
      "source": [
        "# Task 13\n",
        "def is_palindrome(s):\n",
        "  normalized_str = ''.join(char.lower() for char in s if char.isalnum())\n",
        "  return s==s[::-1]\n",
        "\n",
        "word=\"Hello\"\n",
        "\n",
        "if is_palindrome(\"A man a plan a canal Panama\"):\n",
        "  print(\"Palindrome\")\n",
        "else:\n",
        "  print(\"Not a palindrome\")"
      ],
      "metadata": {
        "colab": {
          "base_uri": "https://localhost:8080/"
        },
        "id": "998c8orlBkEU",
        "outputId": "60611b37-438d-4800-c63a-ef4e2cc7c217"
      },
      "execution_count": null,
      "outputs": [
        {
          "output_type": "stream",
          "name": "stdout",
          "text": [
            "Not a palindrome\n"
          ]
        }
      ]
    },
    {
      "cell_type": "code",
      "source": [
        "# Task 14\n",
        "def find_factors(n):\n",
        "  factors=[]\n",
        "  for i in range(1,n+1):\n",
        "    if n % i==0:\n",
        "      factors.append(i)\n",
        "  return factors\n",
        "print(find_factors(18))\n"
      ],
      "metadata": {
        "colab": {
          "base_uri": "https://localhost:8080/"
        },
        "id": "e9vXEoWOCKco",
        "outputId": "98af0a20-fee7-436e-9b46-658d5754399e"
      },
      "execution_count": null,
      "outputs": [
        {
          "output_type": "stream",
          "name": "stdout",
          "text": [
            "[1, 2, 3, 6, 9, 18]\n"
          ]
        }
      ]
    },
    {
      "cell_type": "code",
      "source": [
        "# Task 15\n",
        "def is_perfect(n):\n",
        "    sum_of_factors = sum(i for i in range(1, n // 2 + 1) if n % i == 0)\n",
        "    return sum_of_factors == n\n",
        "\n",
        "for number in range(1, 10000):\n",
        "    if is_perfect(number):\n",
        "      print(f\"{number} perfect_number\")\n",
        "\n"
      ],
      "metadata": {
        "colab": {
          "base_uri": "https://localhost:8080/"
        },
        "id": "lwoVV8NRFTnO",
        "outputId": "d11f2cad-6882-42cc-9dfb-b58790da3bb0"
      },
      "execution_count": null,
      "outputs": [
        {
          "output_type": "stream",
          "name": "stdout",
          "text": [
            "6 perfect_number\n",
            "28 perfect_number\n",
            "496 perfect_number\n",
            "8128 perfect_number\n"
          ]
        }
      ]
    },
    {
      "cell_type": "code",
      "source": [
        "# Task 16\n",
        "def common_elements(list1,list2):\n",
        "  common_elements=[]\n",
        "  for element in list1:\n",
        "    if element in list2:\n",
        "      common_elements.append(element)\n",
        "  return( common_elements)\n",
        "\n",
        "list1=[1,2,3,4,5]\n",
        "list2=[3,4,5,6,7]\n",
        "print(common_elements(list1,list2))"
      ],
      "metadata": {
        "colab": {
          "base_uri": "https://localhost:8080/"
        },
        "id": "hAwV3L0LO_Ys",
        "outputId": "5602747c-038c-4ebb-b71e-6e612d38a2be"
      },
      "execution_count": null,
      "outputs": [
        {
          "output_type": "stream",
          "name": "stdout",
          "text": [
            "[3, 4, 5]\n"
          ]
        }
      ]
    },
    {
      "cell_type": "code",
      "source": [
        "# Task 17\n",
        "def caesar_cipher(text, shift):\n",
        "\n",
        "    encrypted_text = \"\"\n",
        "    for char in text:\n",
        "        if 'a' <= char <= 'z':\n",
        "            new_char = chr((ord(char) - ord('a') + shift) % 26 + ord('a'))\n",
        "            encrypted_text += new_char\n",
        "        else:\n",
        "            encrypted_text += char\n",
        "    return encrypted_text\n",
        "\n",
        "text = \"Hello, World!\"\n",
        "shift = 3\n",
        "print(\"Encrypted text:\", caesar_cipher(text, shift))\n"
      ],
      "metadata": {
        "colab": {
          "base_uri": "https://localhost:8080/"
        },
        "id": "TPIPFpQgQfWj",
        "outputId": "1093125d-90f2-4183-fb81-b0dbc35014b7"
      },
      "execution_count": null,
      "outputs": [
        {
          "output_type": "stream",
          "name": "stdout",
          "text": [
            "Encrypted text: Hhoor, Wruog!\n"
          ]
        }
      ]
    },
    {
      "cell_type": "code",
      "source": [
        "# Task 18\n",
        "def sort_list(lst):\n",
        "  return sorted(lst)\n",
        "  lst=[5,3,6,2,1,4]\n",
        "print(sort_list(lst))"
      ],
      "metadata": {
        "colab": {
          "base_uri": "https://localhost:8080/"
        },
        "id": "j3BG19sS0-Pt",
        "outputId": "144a2de1-d31c-4f20-b192-83eaa8e862bd"
      },
      "execution_count": 4,
      "outputs": [
        {
          "output_type": "stream",
          "name": "stdout",
          "text": [
            "[1, 2, 3, 4, 5]\n"
          ]
        }
      ]
    },
    {
      "cell_type": "code",
      "source": [
        "# Task 19\n",
        "def find_missing_number(lst,n):\n",
        "  total_num=n*(n+1)//2\n",
        "  sum_of_lst=sum(lst)\n",
        "  missing_number=total_num-sum_of_lst\n",
        "  return missing_number\n",
        "lst=[1,2,3,5,6]\n",
        "n=6\n",
        "result=find_missing_number(lst,n)\n",
        "print(result)\n"
      ],
      "metadata": {
        "colab": {
          "base_uri": "https://localhost:8080/"
        },
        "id": "hDQc4LhU1jK1",
        "outputId": "f571ca05-fabd-439c-d12d-579164a8eb0c"
      },
      "execution_count": 12,
      "outputs": [
        {
          "output_type": "stream",
          "name": "stdout",
          "text": [
            "4\n"
          ]
        }
      ]
    },
    {
      "cell_type": "code",
      "source": [
        "# Task 20\n",
        "def binary_to_decimal(binary):\n",
        "  decimal=int(binary,2)\n",
        "  return decimal\n",
        "binary=\"1011\"\n",
        "result=binary_to_decimal(binary)\n",
        "print(result)"
      ],
      "metadata": {
        "colab": {
          "base_uri": "https://localhost:8080/"
        },
        "id": "N1Tqq3Tg4eq-",
        "outputId": "6da840b6-bd8a-4bab-ad13-f81d56157452"
      },
      "execution_count": 16,
      "outputs": [
        {
          "output_type": "stream",
          "name": "stdout",
          "text": [
            "11\n"
          ]
        }
      ]
    },
    {
      "cell_type": "code",
      "source": [],
      "metadata": {
        "id": "04g2gSa677ZX"
      },
      "execution_count": null,
      "outputs": []
    }
  ]
}