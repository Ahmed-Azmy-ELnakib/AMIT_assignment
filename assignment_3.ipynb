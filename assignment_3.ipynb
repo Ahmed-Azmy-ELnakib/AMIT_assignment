{
  "nbformat": 4,
  "nbformat_minor": 0,
  "metadata": {
    "colab": {
      "provenance": []
    },
    "kernelspec": {
      "name": "python3",
      "display_name": "Python 3"
    },
    "language_info": {
      "name": "python"
    }
  },
  "cells": [
    {
      "cell_type": "markdown",
      "source": [
        "1- add an item to a tuple"
      ],
      "metadata": {
        "id": "KwhJPApXmI7C"
      }
    },
    {
      "cell_type": "code",
      "execution_count": 2,
      "metadata": {
        "colab": {
          "base_uri": "https://localhost:8080/"
        },
        "id": "OoFzqP7Mk3uj",
        "outputId": "f8958622-1ec9-4add-b83a-06d0eaf7ae34"
      },
      "outputs": [
        {
          "output_type": "stream",
          "name": "stdout",
          "text": [
            "(1, 2, 3, 4, 5)\n"
          ]
        }
      ],
      "source": [
        "my_tuple=(1,2,3,4)\n",
        "item = 5\n",
        "my_tuple = my_tuple + (item,)\n",
        "print(my_tuple)"
      ]
    },
    {
      "cell_type": "markdown",
      "source": [
        "2- sum all items in a list"
      ],
      "metadata": {
        "id": "YxKL5C2_msTM"
      }
    },
    {
      "cell_type": "code",
      "source": [
        "numbers=[1,2,3,4,5]\n",
        "total=sum(numbers)\n",
        "print(total)"
      ],
      "metadata": {
        "colab": {
          "base_uri": "https://localhost:8080/"
        },
        "id": "G99guglWmfia",
        "outputId": "5b7361a7-9241-40e1-a38c-b238256ac3ca"
      },
      "execution_count": 5,
      "outputs": [
        {
          "output_type": "stream",
          "name": "stdout",
          "text": [
            "15\n"
          ]
        }
      ]
    },
    {
      "cell_type": "markdown",
      "source": [
        "3- Multiply all items in a list"
      ],
      "metadata": {
        "id": "o0ttJA9HnbpV"
      }
    },
    {
      "cell_type": "code",
      "source": [
        "numbers=[1,2,3,4,5]\n",
        "x=1\n",
        "for i in numbers:\n",
        "  x*=i\n",
        "print(x)"
      ],
      "metadata": {
        "colab": {
          "base_uri": "https://localhost:8080/"
        },
        "id": "AYsjAYhEnMoh",
        "outputId": "1dc714b6-6366-42f8-97d0-1a550784ae41"
      },
      "execution_count": 6,
      "outputs": [
        {
          "output_type": "stream",
          "name": "stdout",
          "text": [
            "120\n"
          ]
        }
      ]
    },
    {
      "cell_type": "markdown",
      "source": [
        "4. Get the smallest number from a list"
      ],
      "metadata": {
        "id": "Zkyd8m90oVq9"
      }
    },
    {
      "cell_type": "code",
      "source": [
        "numbers=[1,2,3,4,5]\n",
        "smallest=numbers[0]\n",
        "for i in numbers:\n",
        "  if i < smallest:\n",
        "    smallest=i\n",
        "print(smallest)\n"
      ],
      "metadata": {
        "colab": {
          "base_uri": "https://localhost:8080/"
        },
        "id": "8m6yBkthoEs2",
        "outputId": "da360815-109e-4926-c70d-01bbb1acb1d6"
      },
      "execution_count": 11,
      "outputs": [
        {
          "output_type": "stream",
          "name": "stdout",
          "text": [
            "1\n"
          ]
        }
      ]
    },
    {
      "cell_type": "markdown",
      "source": [
        "5. Get the largest number from a list"
      ],
      "metadata": {
        "id": "vmPkMWTVp1O6"
      }
    },
    {
      "cell_type": "code",
      "source": [
        "numbers=[1,2,3,4,5]\n",
        "largest=numbers[0]\n",
        "for i in numbers:\n",
        "  if i > largest:\n",
        "    largest=i\n",
        "print(largest)"
      ],
      "metadata": {
        "colab": {
          "base_uri": "https://localhost:8080/"
        },
        "id": "mXuUkYw2ox-r",
        "outputId": "d27992ba-d78f-4ca2-e3ba-43c63e98c603"
      },
      "execution_count": 14,
      "outputs": [
        {
          "output_type": "stream",
          "name": "stdout",
          "text": [
            "5\n"
          ]
        }
      ]
    },
    {
      "cell_type": "markdown",
      "source": [
        "6. Count the number of strings in a list"
      ],
      "metadata": {
        "id": "Tj8B1YBKqTGC"
      }
    },
    {
      "cell_type": "code",
      "source": [
        "my_list=[\"ahmed\",\"ali\",5,\"mohamed\",12]\n",
        "count=0\n",
        "for i in my_list:\n",
        "  if type(i)==str:\n",
        "    count+=1\n",
        "print(count)\n"
      ],
      "metadata": {
        "colab": {
          "base_uri": "https://localhost:8080/"
        },
        "id": "PiSRTevqqLnX",
        "outputId": "7f9607ae-025c-4914-b497-51fbe4ce9924"
      },
      "execution_count": 21,
      "outputs": [
        {
          "output_type": "stream",
          "name": "stdout",
          "text": [
            "3\n"
          ]
        }
      ]
    },
    {
      "cell_type": "markdown",
      "source": [
        "7. Clone or copy a list"
      ],
      "metadata": {
        "id": "fWA-XBuisaRO"
      }
    },
    {
      "cell_type": "code",
      "source": [
        "original_list=[1,2,3,4,5]\n",
        "copied_list=original_list.copy()\n",
        "print(copied_list)"
      ],
      "metadata": {
        "colab": {
          "base_uri": "https://localhost:8080/"
        },
        "id": "3NgJtrccq2jZ",
        "outputId": "aca2c83d-f6d8-42b0-ade0-f4b480743a98"
      },
      "execution_count": 22,
      "outputs": [
        {
          "output_type": "stream",
          "name": "stdout",
          "text": [
            "[1, 2, 3, 4, 5]\n"
          ]
        }
      ]
    },
    {
      "cell_type": "markdown",
      "source": [
        "8. Remove item(s) from a set"
      ],
      "metadata": {
        "id": "LN-kloyKsxu6"
      }
    },
    {
      "cell_type": "code",
      "source": [
        "my_set={1,2,3,4,5}\n",
        "my_set.remove(4)\n",
        "print(my_set)\n"
      ],
      "metadata": {
        "colab": {
          "base_uri": "https://localhost:8080/"
        },
        "id": "dfjAPuY1srqc",
        "outputId": "4757d40f-c0bd-4df5-c93e-726814e8bffe"
      },
      "execution_count": 34,
      "outputs": [
        {
          "output_type": "stream",
          "name": "stdout",
          "text": [
            "{1, 2, 3, 5}\n"
          ]
        }
      ]
    },
    {
      "cell_type": "markdown",
      "source": [
        "9. Check if a set is a subset of another set"
      ],
      "metadata": {
        "id": "JWDXcw1kuWWJ"
      }
    },
    {
      "cell_type": "code",
      "source": [
        "a= {1,2,3}\n",
        "b= {1,2,3,4,5}\n",
        "print(a.issubset(b))"
      ],
      "metadata": {
        "colab": {
          "base_uri": "https://localhost:8080/"
        },
        "id": "mq2phQTQtIMc",
        "outputId": "b04bff87-0dce-4661-ccdd-8c4d75479a82"
      },
      "execution_count": 37,
      "outputs": [
        {
          "output_type": "stream",
          "name": "stdout",
          "text": [
            "True\n"
          ]
        }
      ]
    },
    {
      "cell_type": "markdown",
      "source": [
        "10. Remove all elements from a set"
      ],
      "metadata": {
        "id": "JMVQjqORuw6z"
      }
    },
    {
      "cell_type": "code",
      "source": [
        "my_set={1,2,3,4,5}\n",
        "my_set.clear()\n",
        "print(my_set)"
      ],
      "metadata": {
        "colab": {
          "base_uri": "https://localhost:8080/"
        },
        "id": "G-fPkr30ukAu",
        "outputId": "861d4ca6-6319-4678-e0b8-87c661af4e2f"
      },
      "execution_count": 39,
      "outputs": [
        {
          "output_type": "stream",
          "name": "stdout",
          "text": [
            "set()\n"
          ]
        }
      ]
    },
    {
      "cell_type": "markdown",
      "source": [
        "11. Find maximum and minimum values in a set"
      ],
      "metadata": {
        "id": "R3Pky1vsvPbq"
      }
    },
    {
      "cell_type": "code",
      "source": [
        "my_set={1,2,3,4,5}\n",
        "print(max(my_set))\n",
        "print(min(my_set))"
      ],
      "metadata": {
        "colab": {
          "base_uri": "https://localhost:8080/"
        },
        "id": "zZZlTO54vCnH",
        "outputId": "dd2f2bd7-5c58-4752-823a-a3dcfa84616a"
      },
      "execution_count": 41,
      "outputs": [
        {
          "output_type": "stream",
          "name": "stdout",
          "text": [
            "5\n",
            "1\n"
          ]
        }
      ]
    },
    {
      "cell_type": "markdown",
      "source": [
        "12. Find the index of an item in a tuple"
      ],
      "metadata": {
        "id": "Ht0Ewf2bva-p"
      }
    },
    {
      "cell_type": "code",
      "source": [
        "my_tuple=(1,2,3,4,5)\n",
        "print(my_tuple.index(3))"
      ],
      "metadata": {
        "colab": {
          "base_uri": "https://localhost:8080/"
        },
        "id": "iOsYd64ZvXF7",
        "outputId": "4dfbd42f-740c-42e9-b3e2-12a7cc45c0fe"
      },
      "execution_count": 42,
      "outputs": [
        {
          "output_type": "stream",
          "name": "stdout",
          "text": [
            "2\n"
          ]
        }
      ]
    },
    {
      "cell_type": "markdown",
      "source": [
        "13. Convert a tuple to a dictionary"
      ],
      "metadata": {
        "id": "93MtIQ4Ivz9j"
      }
    },
    {
      "cell_type": "code",
      "source": [
        "my_tuple=((\"a\",1),(\"b\",2))\n",
        "my_dict=dict(my_tuple)\n",
        "print(my_dict)"
      ],
      "metadata": {
        "colab": {
          "base_uri": "https://localhost:8080/"
        },
        "id": "VQopMiI8vu7D",
        "outputId": "ff4a6245-ef3d-4dff-e35f-eb51320f2659"
      },
      "execution_count": 43,
      "outputs": [
        {
          "output_type": "stream",
          "name": "stdout",
          "text": [
            "{'a': 1, 'b': 2}\n"
          ]
        }
      ]
    },
    {
      "cell_type": "markdown",
      "source": [
        "14. Unzip a list of tuples into individual lists"
      ],
      "metadata": {
        "id": "3Ut9Go2iwFTH"
      }
    },
    {
      "cell_type": "code",
      "source": [
        "list=[(1,\"ahmed\"),(2,\"ali\")]\n",
        "a,b=zip(*list)\n",
        "print(a)\n",
        "print(b)"
      ],
      "metadata": {
        "colab": {
          "base_uri": "https://localhost:8080/"
        },
        "id": "cAzHri6SwA5o",
        "outputId": "b7a60eb9-ea8b-4fa4-8044-7e85238f996f"
      },
      "execution_count": 47,
      "outputs": [
        {
          "output_type": "stream",
          "name": "stdout",
          "text": [
            "(1, 2)\n",
            "('ahmed', 'ali')\n"
          ]
        }
      ]
    },
    {
      "cell_type": "markdown",
      "source": [
        "15. Reverse a tuple"
      ],
      "metadata": {
        "id": "UcKsx4GGxnbX"
      }
    },
    {
      "cell_type": "code",
      "source": [
        "my_tuple=(1,2,3,4,5)\n",
        "my_tuple=my_tuple[::-1]\n",
        "print(my_tuple)"
      ],
      "metadata": {
        "colab": {
          "base_uri": "https://localhost:8080/"
        },
        "id": "spTRtKuaxQGO",
        "outputId": "a07c41f5-4102-4e83-c2de-4f75407c888f"
      },
      "execution_count": 48,
      "outputs": [
        {
          "output_type": "stream",
          "name": "stdout",
          "text": [
            "(5, 4, 3, 2, 1)\n"
          ]
        }
      ]
    },
    {
      "cell_type": "markdown",
      "source": [
        "16. Convert a list of tuples into a dictionary"
      ],
      "metadata": {
        "id": "OrAxbNIsx-X1"
      }
    },
    {
      "cell_type": "code",
      "source": [
        "my_tuple=[(\"a\",1),(\"b\",2)]\n",
        "my_dict=dict(my_tuple)\n",
        "print(my_dict)"
      ],
      "metadata": {
        "colab": {
          "base_uri": "https://localhost:8080/"
        },
        "id": "ERxQsTKQxx0q",
        "outputId": "dcb3a0d6-87a7-4d84-c35f-ce6a6ecd7cd2"
      },
      "execution_count": 50,
      "outputs": [
        {
          "output_type": "stream",
          "name": "stdout",
          "text": [
            "{'a': 1, 'b': 2}\n"
          ]
        }
      ]
    },
    {
      "cell_type": "markdown",
      "source": [
        "17. Replace the last value of tuples in a list"
      ],
      "metadata": {
        "id": "7HRzzZn6yatG"
      }
    },
    {
      "cell_type": "code",
      "source": [
        "my_tuple=[(1,2,3),(4,5,6),(7,8,9)]\n",
        "new_value=10\n",
        "for i in range(len(my_tuple)):\n",
        "  my_tuple[i]=my_tuple[i][:-1]+(new_value,)\n",
        "print(my_tuple)"
      ],
      "metadata": {
        "colab": {
          "base_uri": "https://localhost:8080/"
        },
        "id": "IBnzj2nuyHa2",
        "outputId": "36efd41f-8431-4817-c731-28109307a814"
      },
      "execution_count": 52,
      "outputs": [
        {
          "output_type": "stream",
          "name": "stdout",
          "text": [
            "[(1, 2, 10), (4, 5, 10), (7, 8, 10)]\n"
          ]
        }
      ]
    },
    {
      "cell_type": "markdown",
      "source": [
        "18. Sort a tuple by its float element (using for)"
      ],
      "metadata": {
        "id": "vmvtUUnS0GLK"
      }
    },
    {
      "cell_type": "code",
      "source": [
        "my_tuple=[(\"a\",2.3),(\"b\",1.2)]\n",
        "\n",
        "for i in range(len(my_tuple)):\n",
        "  for j in range(i+1,len(my_tuple)):\n",
        "    if my_tuple[i][1]>my_tuple[j][1]:\n",
        "      my_tuple[i],my_tuple[j]=my_tuple[j],my_tuple[i]\n",
        "print(my_tuple)"
      ],
      "metadata": {
        "colab": {
          "base_uri": "https://localhost:8080/"
        },
        "id": "j0OdIz1Bzisx",
        "outputId": "b3cdacb6-f1e0-4d09-cfd1-ae876dae1741"
      },
      "execution_count": 54,
      "outputs": [
        {
          "output_type": "stream",
          "name": "stdout",
          "text": [
            "[('b', 1.2), ('a', 2.3)]\n"
          ]
        }
      ]
    },
    {
      "cell_type": "code",
      "source": [],
      "metadata": {
        "id": "tqHv1xja0sNF"
      },
      "execution_count": null,
      "outputs": []
    }
  ]
}