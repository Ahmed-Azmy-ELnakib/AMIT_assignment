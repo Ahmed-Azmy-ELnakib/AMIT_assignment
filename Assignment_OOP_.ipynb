{
  "nbformat": 4,
  "nbformat_minor": 0,
  "metadata": {
    "colab": {
      "provenance": [],
      "authorship_tag": "ABX9TyNBoyUtf2RTW5/QK/W64Wfv",
      "include_colab_link": true
    },
    "kernelspec": {
      "name": "python3",
      "display_name": "Python 3"
    },
    "language_info": {
      "name": "python"
    }
  },
  "cells": [
    {
      "cell_type": "markdown",
      "metadata": {
        "id": "view-in-github",
        "colab_type": "text"
      },
      "source": [
        "<a href=\"https://colab.research.google.com/github/Ahmed-Azmy-ELnakib/AMIT_assignment/blob/main/Assignment_OOP_.ipynb\" target=\"_parent\"><img src=\"https://colab.research.google.com/assets/colab-badge.svg\" alt=\"Open In Colab\"/></a>"
      ]
    },
    {
      "cell_type": "code",
      "execution_count": 2,
      "metadata": {
        "colab": {
          "base_uri": "https://localhost:8080/"
        },
        "id": "q1sPTz0rEwOK",
        "outputId": "2f56b110-332e-4f48-feba-64c431cd9efa"
      },
      "outputs": [
        {
          "output_type": "stream",
          "name": "stdout",
          "text": [
            "Ali donated the game Chess.\n",
            "Sara donated the game Monopoly.\n",
            "Available games: ['Chess', 'Monopoly']\n",
            "Chess has been lent to Ahmed.\n",
            "Available games after lending: ['Monopoly']\n",
            "Chess has been returned by Ahmed.\n",
            "Available games after returning: ['Monopoly', 'Chess']\n"
          ]
        }
      ],
      "source": [
        "class Library:\n",
        "    def __init__(self):\n",
        "        self.gameslist = []\n",
        "        self.lenders = {}\n",
        "        self.donors = {}\n",
        "\n",
        "    def games(self):\n",
        "        \"\"\"Returns the list of available games.\"\"\"\n",
        "        return self.gameslist\n",
        "\n",
        "    def lend(self, game, borrower):\n",
        "        \"\"\"Allows a person to borrow a game.\"\"\"\n",
        "        if game in self.gameslist:\n",
        "            self.gameslist.remove(game)\n",
        "            self.lenders[borrower] = game\n",
        "            print(f\"{game} has been lent to {borrower}.\")\n",
        "        else:\n",
        "            print(f\"{game} is not available for lending.\")\n",
        "\n",
        "    def returnb(self, game, borrower):\n",
        "        \"\"\"Allows a person to return a borrowed game.\"\"\"\n",
        "        if borrower in self.lenders and self.lenders[borrower] == game:\n",
        "            self.gameslist.append(game)\n",
        "            del self.lenders[borrower]\n",
        "            print(f\"{game} has been returned by {borrower}.\")\n",
        "        else:\n",
        "            print(f\"No record of {borrower} borrowing {game}.\")\n",
        "\n",
        "    def donate(self, game, donor):\n",
        "        \"\"\"Allows a person to donate a game to the library.\"\"\"\n",
        "        self.gameslist.append(game)\n",
        "        self.donors[donor] = game\n",
        "        print(f\"{donor} donated the game {game}.\")\n",
        "\n",
        "library = Library()\n",
        "\n",
        "library.donate(\"Chess\", \"Ali\")\n",
        "library.donate(\"Monopoly\", \"Sara\")\n",
        "\n",
        "print(\"Available games:\", library.games())\n",
        "\n",
        "library.lend(\"Chess\", \"Ahmed\")\n",
        "\n",
        "print(\"Available games after lending:\", library.games())\n",
        "\n",
        "library.returnb(\"Chess\", \"Ahmed\")\n",
        "\n",
        "print(\"Available games after returning:\", library.games())"
      ]
    }
  ]
}