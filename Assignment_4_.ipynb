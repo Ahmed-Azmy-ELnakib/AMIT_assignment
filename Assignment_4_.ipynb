{
  "nbformat": 4,
  "nbformat_minor": 0,
  "metadata": {
    "colab": {
      "provenance": [],
      "authorship_tag": "ABX9TyP9Nr7ljtiVxmPOcdlMWTl5",
      "include_colab_link": true
    },
    "kernelspec": {
      "name": "python3",
      "display_name": "Python 3"
    },
    "language_info": {
      "name": "python"
    }
  },
  "cells": [
    {
      "cell_type": "markdown",
      "metadata": {
        "id": "view-in-github",
        "colab_type": "text"
      },
      "source": [
        "<a href=\"https://colab.research.google.com/github/Ahmed-Azmy-ELnakib/AMIT_assignment/blob/main/Assignment_4_.ipynb\" target=\"_parent\"><img src=\"https://colab.research.google.com/assets/colab-badge.svg\" alt=\"Open In Colab\"/></a>"
      ]
    },
    {
      "cell_type": "code",
      "execution_count": 1,
      "metadata": {
        "colab": {
          "base_uri": "https://localhost:8080/"
        },
        "id": "z-tB-954jM9i",
        "outputId": "4799094f-de11-471d-dfb4-9dda86966f04"
      },
      "outputs": [
        {
          "output_type": "stream",
          "name": "stdout",
          "text": [
            "0 1 1 2 3 5 8 13 21 34 "
          ]
        }
      ],
      "source": [
        "# Answer 1\n",
        "def fibonacci(n):\n",
        "    if n <= 1:\n",
        "        return n\n",
        "    return fibonacci(n - 1) + fibonacci(n - 2)\n",
        "\n",
        "n_terms = 10\n",
        "for i in range(n_terms):\n",
        "    print(fibonacci(i), end=\" \")"
      ]
    },
    {
      "cell_type": "code",
      "source": [
        "# Answer 2\n",
        "def word_frequency(strings):\n",
        "    words = \" \".join(strings).split()\n",
        "    freq = {}\n",
        "    for x in words:\n",
        "        freq[x] = freq.get(x, 0) + 1\n",
        "    return freq\n",
        "\n",
        "strings = [\"hello world\", \"hello ahmed\", \"ahmed is good\"]\n",
        "print(word_frequency(strings))"
      ],
      "metadata": {
        "colab": {
          "base_uri": "https://localhost:8080/"
        },
        "id": "gLO2zQcilOph",
        "outputId": "9104d273-8350-4149-cfac-b312b9da4ceb"
      },
      "execution_count": 3,
      "outputs": [
        {
          "output_type": "stream",
          "name": "stdout",
          "text": [
            "{'hello': 2, 'world': 1, 'ahmed': 2, 'is': 1, 'good': 1}\n"
          ]
        }
      ]
    },
    {
      "cell_type": "code",
      "source": [
        "# Answer 3\n",
        "def find_pairs(list, target):\n",
        "    pairs = []\n",
        "    for i in range(len(my_list)):\n",
        "        for j in range(i + 1, len(my_list)):\n",
        "            if my_list[i] + my_list[j] == target:\n",
        "                pairs.append((my_list[i], my_list[j]))\n",
        "    return pairs\n",
        "\n",
        "my_list = [1, 2, 3, 4, 5, 6]\n",
        "target = 7\n",
        "print(find_pairs(my_list, target))"
      ],
      "metadata": {
        "colab": {
          "base_uri": "https://localhost:8080/"
        },
        "id": "IQGvemIIlYAt",
        "outputId": "939a4b6a-21f0-407c-9711-646dca693fce"
      },
      "execution_count": 5,
      "outputs": [
        {
          "output_type": "stream",
          "name": "stdout",
          "text": [
            "[(1, 6), (2, 5), (3, 4)]\n"
          ]
        }
      ]
    },
    {
      "cell_type": "code",
      "source": [
        "# Answer 4\n",
        "def max_product(my_list):\n",
        "    if len(my_list) < 2:\n",
        "        return None\n",
        "    my_list.sort()\n",
        "    return my_list[-1] * my_list[-2]\n",
        "\n",
        "my_list = [1, 10, 3, 7, 5]\n",
        "print(max_product(my_list))"
      ],
      "metadata": {
        "colab": {
          "base_uri": "https://localhost:8080/"
        },
        "id": "5U2BlWqAlaSU",
        "outputId": "0b7d6d55-2c86-4f16-e9f3-75dbfddb645f"
      },
      "execution_count": 10,
      "outputs": [
        {
          "output_type": "stream",
          "name": "stdout",
          "text": [
            "70\n"
          ]
        }
      ]
    },
    {
      "cell_type": "code",
      "source": [
        "# Answer 5\n",
        "def is_prime(num):\n",
        "    if num < 2:\n",
        "        return False\n",
        "    for i in range(2, int(num ** 0.5) + 1):\n",
        "        if num % i == 0:\n",
        "            return False\n",
        "    return True\n",
        "\n",
        "print(is_prime(29))"
      ],
      "metadata": {
        "colab": {
          "base_uri": "https://localhost:8080/"
        },
        "id": "MFONGx1Clbjs",
        "outputId": "2f0b1fa1-7c87-4c3b-c923-8a6a314cf843"
      },
      "execution_count": 11,
      "outputs": [
        {
          "output_type": "stream",
          "name": "stdout",
          "text": [
            "True\n"
          ]
        }
      ]
    },
    {
      "cell_type": "code",
      "source": [
        "# Answer 6\n",
        "def print_even_numbers(my_list):\n",
        "    return [num for num in my_list if num % 2 == 0]\n",
        "\n",
        "my_list = [1, 2, 3, 4, 5, 6, 7, 8, 9, 10]\n",
        "print(print_even_numbers(my_list))"
      ],
      "metadata": {
        "colab": {
          "base_uri": "https://localhost:8080/"
        },
        "id": "BID86MBKldeg",
        "outputId": "b7a56236-bc8d-4588-e7c5-8805ad1268eb"
      },
      "execution_count": 13,
      "outputs": [
        {
          "output_type": "stream",
          "name": "stdout",
          "text": [
            "[2, 4, 6, 8, 10]\n"
          ]
        }
      ]
    },
    {
      "cell_type": "code",
      "source": [
        "# Answer 7\n",
        "def reverse_words(sentence):\n",
        "    return \" \".join(sentence.split()[::-1])\n",
        "\n",
        "sentence = \"Hello world\"\n",
        "print(reverse_words(sentence))"
      ],
      "metadata": {
        "colab": {
          "base_uri": "https://localhost:8080/"
        },
        "id": "YATUYSrCle99",
        "outputId": "8c9dee0c-6460-4e5e-e159-ea2d1ce61e86"
      },
      "execution_count": 15,
      "outputs": [
        {
          "output_type": "stream",
          "name": "stdout",
          "text": [
            "world Hello\n"
          ]
        }
      ]
    },
    {
      "cell_type": "code",
      "source": [
        "# Answer 8\n",
        "def is_palindrome(x):\n",
        "    x_str = str(x)\n",
        "    return x_str == x_str[::-1]\n",
        "\n",
        "print(is_palindrome(121))\n",
        "print(is_palindrome(-121))"
      ],
      "metadata": {
        "colab": {
          "base_uri": "https://localhost:8080/"
        },
        "id": "2tTrJX-ylgaD",
        "outputId": "c1f149a5-7982-4db7-a41d-e4e75d08eddc"
      },
      "execution_count": 16,
      "outputs": [
        {
          "output_type": "stream",
          "name": "stdout",
          "text": [
            "True\n",
            "False\n"
          ]
        }
      ]
    },
    {
      "cell_type": "code",
      "source": [
        "# Answer 9\n",
        "def is_string_palindrome(string):\n",
        "    string = string.lower().replace(\" \", \"\")\n",
        "    return string == string[::-1]\n",
        "\n",
        "print(is_string_palindrome(\"madam\"))\n",
        "print(is_string_palindrome(\"hello\"))"
      ],
      "metadata": {
        "colab": {
          "base_uri": "https://localhost:8080/"
        },
        "id": "g8GCQ6PWlhdL",
        "outputId": "33ffb351-3b4f-4a6f-a90c-60b02c32ac41"
      },
      "execution_count": 17,
      "outputs": [
        {
          "output_type": "stream",
          "name": "stdout",
          "text": [
            "True\n",
            "False\n"
          ]
        }
      ]
    },
    {
      "cell_type": "code",
      "source": [
        "# Answer 10\n",
        "def squares_list():\n",
        "    return [x ** 2 for x in range(1, 31)]\n",
        "\n",
        "print(squares_list())"
      ],
      "metadata": {
        "colab": {
          "base_uri": "https://localhost:8080/"
        },
        "id": "TrRPsj-ElkAw",
        "outputId": "549764fe-c22f-48cf-c2aa-1d2516366f48"
      },
      "execution_count": 18,
      "outputs": [
        {
          "output_type": "stream",
          "name": "stdout",
          "text": [
            "[1, 4, 9, 16, 25, 36, 49, 64, 81, 100, 121, 144, 169, 196, 225, 256, 289, 324, 361, 400, 441, 484, 529, 576, 625, 676, 729, 784, 841, 900]\n"
          ]
        }
      ]
    },
    {
      "cell_type": "code",
      "source": [],
      "metadata": {
        "id": "xdHxf6_QottY"
      },
      "execution_count": null,
      "outputs": []
    }
  ]
}