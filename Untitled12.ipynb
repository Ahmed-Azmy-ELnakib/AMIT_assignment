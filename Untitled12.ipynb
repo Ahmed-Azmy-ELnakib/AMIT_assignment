{
  "nbformat": 4,
  "nbformat_minor": 0,
  "metadata": {
    "colab": {
      "provenance": [],
      "authorship_tag": "ABX9TyPzi7cuRd+Ijq9CGvM8VCCm",
      "include_colab_link": true
    },
    "kernelspec": {
      "name": "python3",
      "display_name": "Python 3"
    },
    "language_info": {
      "name": "python"
    }
  },
  "cells": [
    {
      "cell_type": "markdown",
      "metadata": {
        "id": "view-in-github",
        "colab_type": "text"
      },
      "source": [
        "<a href=\"https://colab.research.google.com/github/Ahmed-Azmy-ELnakib/AMIT_assignment/blob/main/Untitled12.ipynb\" target=\"_parent\"><img src=\"https://colab.research.google.com/assets/colab-badge.svg\" alt=\"Open In Colab\"/></a>"
      ]
    },
    {
      "cell_type": "code",
      "execution_count": 1,
      "metadata": {
        "colab": {
          "base_uri": "https://localhost:8080/"
        },
        "id": "AhDjNJWLHgXg",
        "outputId": "8134ca75-e58a-4860-cb4d-6367cba7b5d4"
      },
      "outputs": [
        {
          "output_type": "stream",
          "name": "stdout",
          "text": [
            "None of the elements is zero: True\n"
          ]
        }
      ],
      "source": [
        "import numpy as np\n",
        "\n",
        "arr = np.array([1, 2, 3, 4])\n",
        "result = np.all(arr != 0)\n",
        "print(\"None of the elements is zero:\", result)"
      ]
    },
    {
      "cell_type": "code",
      "source": [
        "arr = np.array([0, 0, 3, 0])\n",
        "result = np.any(arr != 0)\n",
        "print(\"Any element is non-zero:\", result)"
      ],
      "metadata": {
        "colab": {
          "base_uri": "https://localhost:8080/"
        },
        "id": "b3Zah8veHj2a",
        "outputId": "8a067f8f-ec52-4a79-ef03-e3fbcc0db9b2"
      },
      "execution_count": 2,
      "outputs": [
        {
          "output_type": "stream",
          "name": "stdout",
          "text": [
            "Any element is non-zero: True\n"
          ]
        }
      ]
    },
    {
      "cell_type": "code",
      "source": [
        "arr1 = np.array([1.0, 2.0, 3.0])\n",
        "arr2 = np.array([1.0, 2.001, 3.0])\n",
        "\n",
        "equal = np.array_equal(arr1, arr2)\n",
        "tolerance = np.allclose(arr1, arr2, atol=0.01)\n",
        "\n",
        "print(\"Arrays are exactly equal:\", equal)\n",
        "print(\"Arrays are equal within tolerance:\", tolerance)"
      ],
      "metadata": {
        "colab": {
          "base_uri": "https://localhost:8080/"
        },
        "id": "DdNsbCgQHnff",
        "outputId": "4333ac2a-0a17-47c9-a029-15f11fff2607"
      },
      "execution_count": 3,
      "outputs": [
        {
          "output_type": "stream",
          "name": "stdout",
          "text": [
            "Arrays are exactly equal: False\n",
            "Arrays are equal within tolerance: True\n"
          ]
        }
      ]
    },
    {
      "cell_type": "code",
      "source": [
        "zeros = np.zeros(10)\n",
        "ones = np.ones(10)\n",
        "fives = np.full(10, 5)\n",
        "\n",
        "print(\"Zeros:\", zeros)\n",
        "print(\"Ones:\", ones)\n",
        "print(\"Fives:\", fives)"
      ],
      "metadata": {
        "colab": {
          "base_uri": "https://localhost:8080/"
        },
        "id": "EBZaZyuxHtcD",
        "outputId": "3fa38e71-5c2a-490a-93f6-a98bdc4620d3"
      },
      "execution_count": 4,
      "outputs": [
        {
          "output_type": "stream",
          "name": "stdout",
          "text": [
            "Zeros: [0. 0. 0. 0. 0. 0. 0. 0. 0. 0.]\n",
            "Ones: [1. 1. 1. 1. 1. 1. 1. 1. 1. 1.]\n",
            "Fives: [5 5 5 5 5 5 5 5 5 5]\n"
          ]
        }
      ]
    },
    {
      "cell_type": "code",
      "source": [
        "arr = np.arange(30, 71)\n",
        "print(\"Array:\", arr)"
      ],
      "metadata": {
        "colab": {
          "base_uri": "https://localhost:8080/"
        },
        "id": "Hh_xjt0aHx9o",
        "outputId": "ad89c8ea-ac72-4b0b-8b16-edb93ebf1797"
      },
      "execution_count": 5,
      "outputs": [
        {
          "output_type": "stream",
          "name": "stdout",
          "text": [
            "Array: [30 31 32 33 34 35 36 37 38 39 40 41 42 43 44 45 46 47 48 49 50 51 52 53\n",
            " 54 55 56 57 58 59 60 61 62 63 64 65 66 67 68 69 70]\n"
          ]
        }
      ]
    },
    {
      "cell_type": "code",
      "source": [
        "identity_matrix = np.eye(3)\n",
        "print(\"Identity Matrix:\\n\", identity_matrix)"
      ],
      "metadata": {
        "colab": {
          "base_uri": "https://localhost:8080/"
        },
        "id": "_W3xFScOHz6k",
        "outputId": "1ad2552f-2c73-4b40-901d-f985741ebc9d"
      },
      "execution_count": 6,
      "outputs": [
        {
          "output_type": "stream",
          "name": "stdout",
          "text": [
            "Identity Matrix:\n",
            " [[1. 0. 0.]\n",
            " [0. 1. 0.]\n",
            " [0. 0. 1.]]\n"
          ]
        }
      ]
    },
    {
      "cell_type": "code",
      "source": [
        "random_num = np.random.rand()\n",
        "print(\"Random number between 0 and 1:\", random_num)"
      ],
      "metadata": {
        "colab": {
          "base_uri": "https://localhost:8080/"
        },
        "id": "447m-XeiH28E",
        "outputId": "472fd626-6a5a-4387-e4cc-e1906d76722e"
      },
      "execution_count": 7,
      "outputs": [
        {
          "output_type": "stream",
          "name": "stdout",
          "text": [
            "Random number between 0 and 1: 0.09928735710024605\n"
          ]
        }
      ]
    },
    {
      "cell_type": "code",
      "source": [
        "random_array = np.random.randn(15)\n",
        "print(\"Random numbers from standard normal distribution:\", random_array)"
      ],
      "metadata": {
        "colab": {
          "base_uri": "https://localhost:8080/"
        },
        "id": "NtskHp8-H4dW",
        "outputId": "79b8f20c-6427-48d5-c958-3f19d65313fe"
      },
      "execution_count": 8,
      "outputs": [
        {
          "output_type": "stream",
          "name": "stdout",
          "text": [
            "Random numbers from standard normal distribution: [ 2.01105376  1.47642593 -0.57732218  0.06370772 -1.82969706 -1.03970709\n",
            " -0.67892879 -0.3080625  -1.54137619  0.97697568  1.52935545  0.66876492\n",
            "  0.53324521  0.19308764  0.46633687]\n"
          ]
        }
      ]
    },
    {
      "cell_type": "code",
      "source": [
        "vector = np.arange(15, 56)\n",
        "print(\"Vector excluding first and last:\", vector[1:-1])"
      ],
      "metadata": {
        "colab": {
          "base_uri": "https://localhost:8080/"
        },
        "id": "u1Ts2xe4IB9X",
        "outputId": "f4e7d41f-fb74-4827-c45a-838da6a473ba"
      },
      "execution_count": 9,
      "outputs": [
        {
          "output_type": "stream",
          "name": "stdout",
          "text": [
            "Vector excluding first and last: [16 17 18 19 20 21 22 23 24 25 26 27 28 29 30 31 32 33 34 35 36 37 38 39\n",
            " 40 41 42 43 44 45 46 47 48 49 50 51 52 53 54]\n"
          ]
        }
      ]
    },
    {
      "cell_type": "code",
      "source": [
        "vector = np.random.randint(0, 11, 5)\n",
        "print(\"Random vector:\", vector)"
      ],
      "metadata": {
        "colab": {
          "base_uri": "https://localhost:8080/"
        },
        "id": "8MeBOyR5IEIk",
        "outputId": "d248a9c7-419d-41d9-c17c-39a3a2a06366"
      },
      "execution_count": 10,
      "outputs": [
        {
          "output_type": "stream",
          "name": "stdout",
          "text": [
            "Random vector: [ 4  3  0  1 10]\n"
          ]
        }
      ]
    },
    {
      "cell_type": "code",
      "source": [
        "matrix = np.ones((10, 10))\n",
        "matrix[1:-1, 1:-1] = 0\n",
        "print(\"Matrix:\\n\", matrix)"
      ],
      "metadata": {
        "colab": {
          "base_uri": "https://localhost:8080/"
        },
        "id": "5mNgpqdpIGxf",
        "outputId": "000f56ec-0389-447d-a132-21be88a17912"
      },
      "execution_count": 11,
      "outputs": [
        {
          "output_type": "stream",
          "name": "stdout",
          "text": [
            "Matrix:\n",
            " [[1. 1. 1. 1. 1. 1. 1. 1. 1. 1.]\n",
            " [1. 0. 0. 0. 0. 0. 0. 0. 0. 1.]\n",
            " [1. 0. 0. 0. 0. 0. 0. 0. 0. 1.]\n",
            " [1. 0. 0. 0. 0. 0. 0. 0. 0. 1.]\n",
            " [1. 0. 0. 0. 0. 0. 0. 0. 0. 1.]\n",
            " [1. 0. 0. 0. 0. 0. 0. 0. 0. 1.]\n",
            " [1. 0. 0. 0. 0. 0. 0. 0. 0. 1.]\n",
            " [1. 0. 0. 0. 0. 0. 0. 0. 0. 1.]\n",
            " [1. 0. 0. 0. 0. 0. 0. 0. 0. 1.]\n",
            " [1. 1. 1. 1. 1. 1. 1. 1. 1. 1.]]\n"
          ]
        }
      ]
    },
    {
      "cell_type": "code",
      "source": [
        "matrix = np.zeros((5, 5))\n",
        "np.fill_diagonal(matrix, np.arange(1, 6))\n",
        "print(\"Matrix:\\n\", matrix)"
      ],
      "metadata": {
        "colab": {
          "base_uri": "https://localhost:8080/"
        },
        "id": "DIxoCMG_IIeY",
        "outputId": "ee8ccb1e-6351-4cf8-ad92-0cbc40a69ad9"
      },
      "execution_count": 12,
      "outputs": [
        {
          "output_type": "stream",
          "name": "stdout",
          "text": [
            "Matrix:\n",
            " [[1. 0. 0. 0. 0.]\n",
            " [0. 2. 0. 0. 0.]\n",
            " [0. 0. 3. 0. 0.]\n",
            " [0. 0. 0. 4. 0.]\n",
            " [0. 0. 0. 0. 5.]]\n"
          ]
        }
      ]
    },
    {
      "cell_type": "code",
      "source": [
        "matrix = np.zeros((4, 4), dtype=int)\n",
        "matrix[::2, 1::2] = 1\n",
        "matrix[1::2, ::2] = 1\n",
        "print(\"Matrix:\\n\", matrix)"
      ],
      "metadata": {
        "colab": {
          "base_uri": "https://localhost:8080/"
        },
        "id": "QMeaVVE9IKIt",
        "outputId": "501c4bec-4959-4d53-bc86-508042626ae7"
      },
      "execution_count": 13,
      "outputs": [
        {
          "output_type": "stream",
          "name": "stdout",
          "text": [
            "Matrix:\n",
            " [[0 1 0 1]\n",
            " [1 0 1 0]\n",
            " [0 1 0 1]\n",
            " [1 0 1 0]]\n"
          ]
        }
      ]
    },
    {
      "cell_type": "code",
      "source": [
        "arr1 = np.array([1, 2, 3])\n",
        "arr2 = np.array([4, 5, 6])\n",
        "\n",
        "np.savez('arrays_compressed.npz', array1=arr1, array2=arr2)\n",
        "loaded = np.load('arrays_compressed.npz')\n",
        "print(\"Loaded Array 1:\", loaded['array1'])\n",
        "print(\"Loaded Array 2:\", loaded['array2'])"
      ],
      "metadata": {
        "colab": {
          "base_uri": "https://localhost:8080/"
        },
        "id": "kV8rHkT3IPDM",
        "outputId": "abf8c02f-d09d-4b0f-ed0d-bd6e25712e31"
      },
      "execution_count": 14,
      "outputs": [
        {
          "output_type": "stream",
          "name": "stdout",
          "text": [
            "Loaded Array 1: [1 2 3]\n",
            "Loaded Array 2: [4 5 6]\n"
          ]
        }
      ]
    },
    {
      "cell_type": "code",
      "source": [
        "random_array = np.random.random(40)\n",
        "print(\"Random Array:\", random_array)"
      ],
      "metadata": {
        "colab": {
          "base_uri": "https://localhost:8080/"
        },
        "id": "G-Qqu_1sIRHx",
        "outputId": "c5a00141-06b0-4338-c6b1-c8f913f4ab6e"
      },
      "execution_count": 15,
      "outputs": [
        {
          "output_type": "stream",
          "name": "stdout",
          "text": [
            "Random Array: [0.07363041 0.95438564 0.77782111 0.29706726 0.43494983 0.58299637\n",
            " 0.05829422 0.51254024 0.14245418 0.69042561 0.33211266 0.02035477\n",
            " 0.49221381 0.35246664 0.88729075 0.96946204 0.20673283 0.60610483\n",
            " 0.61927315 0.22369745 0.91219876 0.95438413 0.21675183 0.81007613\n",
            " 0.39682037 0.15121824 0.48480759 0.6032224  0.45917814 0.5397679\n",
            " 0.53205988 0.09586339 0.04696968 0.80548556 0.28872509 0.50456446\n",
            " 0.60035884 0.14091699 0.5140505  0.57215457]\n"
          ]
        }
      ]
    },
    {
      "cell_type": "code",
      "source": [
        "arr = np.array([5, 10, 15, 20, 25])\n",
        "min_val, max_val = 10, 20\n",
        "\n",
        "filtered = arr[(arr < min_val) | (arr > max_val)]\n",
        "print(\"Filtered array:\", filtered)"
      ],
      "metadata": {
        "colab": {
          "base_uri": "https://localhost:8080/"
        },
        "id": "5D962m6oISzj",
        "outputId": "dd8f5586-1b27-416c-d579-9d9268e58f33"
      },
      "execution_count": 16,
      "outputs": [
        {
          "output_type": "stream",
          "name": "stdout",
          "text": [
            "Filtered array: [ 5 25]\n"
          ]
        }
      ]
    }
  ]
}